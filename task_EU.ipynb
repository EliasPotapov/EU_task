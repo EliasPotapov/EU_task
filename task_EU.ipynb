{
 "cells": [
  {
   "cell_type": "markdown",
   "metadata": {
    "pycharm": {
     "name": "#%% md\n"
    }
   },
   "source": [
    "# Тестовое задание соискателя\n",
    "### на вакансию \"Исследователь научного центра\""
   ]
  },
  {
   "cell_type": "markdown",
   "metadata": {},
   "source": [
    "Задача - проанализировать датасет, состоящий из метаданных о научных публикациях. Необходимо:\n",
    "* Выделить количество публикаций, посвященных исследованию российских реалий;\n",
    "* Составить топ-20 организаций по количеству авторов, а также по количеству публикаций\n",
    "* Составить топ-20 авторов по количеству публикаций\n",
    "* Составить топ-20 журналов по количеству публикаций"
   ]
  },
  {
   "cell_type": "code",
   "execution_count": 1,
   "metadata": {
    "tags": []
   },
   "outputs": [],
   "source": [
    "import numpy as np\n",
    "import pandas as pd\n",
    "import matplotlib.pyplot as plt"
   ]
  },
  {
   "cell_type": "code",
   "execution_count": 6,
   "metadata": {
    "collapsed": false,
    "jupyter": {
     "outputs_hidden": false
    },
    "pycharm": {
     "name": "#%%\n"
    }
   },
   "outputs": [
    {
     "name": "stdout",
     "output_type": "stream",
     "text": [
      "<class 'pandas.core.frame.DataFrame'>\n",
      "RangeIndex: 21788 entries, 0 to 21787\n",
      "Data columns (total 7 columns):\n",
      " #   Column        Non-Null Count  Dtype \n",
      "---  ------        --------------  ----- \n",
      " 0   id            21788 non-null  object\n",
      " 1   authour_name  21788 non-null  object\n",
      " 2   title         21788 non-null  object\n",
      " 3   address       21788 non-null  object\n",
      " 4   issn          21302 non-null  object\n",
      " 5   journal       21788 non-null  object\n",
      " 6   year          21788 non-null  int64 \n",
      "dtypes: int64(1), object(6)\n",
      "memory usage: 1.2+ MB\n"
     ]
    }
   ],
   "source": [
    "data = pd.read_csv('ranking_dataset.csv',encoding='utf-8')\n",
    "data.info()"
   ]
  },
  {
   "cell_type": "markdown",
   "metadata": {},
   "source": [
    "## Предобработка данных"
   ]
  },
  {
   "cell_type": "markdown",
   "metadata": {},
   "source": []
  },
  {
   "cell_type": "code",
   "execution_count": 7,
   "metadata": {
    "collapsed": false,
    "jupyter": {
     "outputs_hidden": false
    },
    "pycharm": {
     "name": "#%%\n"
    }
   },
   "outputs": [],
   "source": [
    "data['full_address'] = data['address'].str.split(',',expand=False)\n",
    "data['org_name'] = data['full_address'].str[0]\n",
    "data['country'] = data['full_address'].str[-1]"
   ]
  },
  {
   "cell_type": "markdown",
   "metadata": {},
   "source": [
    "Изучим полученный результат."
   ]
  },
  {
   "cell_type": "code",
   "execution_count": 8,
   "metadata": {
    "collapsed": false,
    "jupyter": {
     "outputs_hidden": false
    },
    "pycharm": {
     "name": "#%%\n"
    }
   },
   "outputs": [
    {
     "data": {
      "text/html": [
       "<div>\n",
       "<style scoped>\n",
       "    .dataframe tbody tr th:only-of-type {\n",
       "        vertical-align: middle;\n",
       "    }\n",
       "\n",
       "    .dataframe tbody tr th {\n",
       "        vertical-align: top;\n",
       "    }\n",
       "\n",
       "    .dataframe thead th {\n",
       "        text-align: right;\n",
       "    }\n",
       "</style>\n",
       "<table border=\"1\" class=\"dataframe\">\n",
       "  <thead>\n",
       "    <tr style=\"text-align: right;\">\n",
       "      <th></th>\n",
       "      <th>org_name</th>\n",
       "      <th>country</th>\n",
       "    </tr>\n",
       "  </thead>\n",
       "  <tbody>\n",
       "    <tr>\n",
       "      <th>0</th>\n",
       "      <td>Vytautas Magnus Univ</td>\n",
       "      <td>Lithuania.</td>\n",
       "    </tr>\n",
       "    <tr>\n",
       "      <th>1</th>\n",
       "      <td>Northwestern Univ</td>\n",
       "      <td>IL 60208 USA.</td>\n",
       "    </tr>\n",
       "    <tr>\n",
       "      <th>2</th>\n",
       "      <td>Ural State Univ Econ</td>\n",
       "      <td>Russia.</td>\n",
       "    </tr>\n",
       "    <tr>\n",
       "      <th>3</th>\n",
       "      <td>Ural State Univ Econ</td>\n",
       "      <td>Russia.</td>\n",
       "    </tr>\n",
       "    <tr>\n",
       "      <th>4</th>\n",
       "      <td>Ural State Univ Econ</td>\n",
       "      <td>Russia.</td>\n",
       "    </tr>\n",
       "    <tr>\n",
       "      <th>...</th>\n",
       "      <td>...</td>\n",
       "      <td>...</td>\n",
       "    </tr>\n",
       "    <tr>\n",
       "      <th>21783</th>\n",
       "      <td>Stanford Univ</td>\n",
       "      <td>CA 94305 USA.</td>\n",
       "    </tr>\n",
       "    <tr>\n",
       "      <th>21784</th>\n",
       "      <td>Natl Res Univ Higher Sch Econ</td>\n",
       "      <td>Russia.</td>\n",
       "    </tr>\n",
       "    <tr>\n",
       "      <th>21785</th>\n",
       "      <td>Univ Helsinki</td>\n",
       "      <td>Finland.</td>\n",
       "    </tr>\n",
       "    <tr>\n",
       "      <th>21786</th>\n",
       "      <td>Vytautas Magnus Univ</td>\n",
       "      <td>Lithuania.</td>\n",
       "    </tr>\n",
       "    <tr>\n",
       "      <th>21787</th>\n",
       "      <td>Univ Bucharest</td>\n",
       "      <td>Romania.</td>\n",
       "    </tr>\n",
       "  </tbody>\n",
       "</table>\n",
       "<p>21788 rows × 2 columns</p>\n",
       "</div>"
      ],
      "text/plain": [
       "                            org_name         country\n",
       "0               Vytautas Magnus Univ      Lithuania.\n",
       "1                  Northwestern Univ   IL 60208 USA.\n",
       "2               Ural State Univ Econ         Russia.\n",
       "3               Ural State Univ Econ         Russia.\n",
       "4               Ural State Univ Econ         Russia.\n",
       "...                              ...             ...\n",
       "21783                  Stanford Univ   CA 94305 USA.\n",
       "21784  Natl Res Univ Higher Sch Econ         Russia.\n",
       "21785                  Univ Helsinki        Finland.\n",
       "21786           Vytautas Magnus Univ      Lithuania.\n",
       "21787                 Univ Bucharest        Romania.\n",
       "\n",
       "[21788 rows x 2 columns]"
      ]
     },
     "metadata": {},
     "output_type": "display_data"
    }
   ],
   "source": [
    "display(data[['org_name','country']])"
   ]
  },
  {
   "cell_type": "markdown",
   "metadata": {},
   "source": [
    "В название стран попали точки в конце строки, а также адресы в США сопровождаются названием штата и индексом. Исправим это.\n",
    "Также заодно избавимся от вспомогательного столбца, который мы создали ранее, чтобы оставить среди данных только скалярные значения."
   ]
  },
  {
   "cell_type": "code",
   "execution_count": 9,
   "metadata": {
    "collapsed": false,
    "jupyter": {
     "outputs_hidden": false
    },
    "pycharm": {
     "name": "#%%\n"
    }
   },
   "outputs": [],
   "source": [
    "data.loc[data['country'].str.contains('USA'), 'country'] = 'USA'\n",
    "data['country'] = data['country'].str.strip(' .')\n",
    "data = data.drop('full_address', axis=1)"
   ]
  },
  {
   "cell_type": "code",
   "execution_count": 10,
   "metadata": {
    "collapsed": false,
    "jupyter": {
     "outputs_hidden": false
    },
    "pycharm": {
     "name": "#%%\n"
    }
   },
   "outputs": [
    {
     "data": {
      "text/plain": [
       "array(['Lithuania', 'USA', 'Russia', 'Czech Republic', 'England',\n",
       "       'Netherlands', 'Israel', 'South Korea', 'Finland', 'Sweden',\n",
       "       'Scotland', 'Australia', 'Switzerland', 'Serbia', 'Belgium',\n",
       "       'Peoples R China', 'Estonia', 'Germany', 'Guyana', 'Canada',\n",
       "       'Taiwan', 'Could not be extracted', 'South Africa', 'Denmark',\n",
       "       'New Zealand', 'Kazakhstan', 'Ireland', 'Norway', 'Italy',\n",
       "       'Poland', 'France', 'Malaysia', 'Brazil', 'Singapore', 'Wales',\n",
       "       'Spain', 'Turkey', 'Japan', 'North Ireland', 'Hungary', 'Ukraine',\n",
       "       'BELARUS', 'Austria', 'India', 'Slovakia', 'Iran', 'Slovenia',\n",
       "       'Portugal', 'Croatia', 'Romania', 'Latvia', 'Bulgaria',\n",
       "       'U Arab Emirates', 'Cyprus', 'Armenia', 'Georgia', 'Qatar',\n",
       "       'Egypt', 'Vietnam', 'Azerbaijan', 'Sri Lanka'], dtype=object)"
      ]
     },
     "metadata": {},
     "output_type": "display_data"
    }
   ],
   "source": [
    "display(data['country'].unique())"
   ]
  },
  {
   "cell_type": "markdown",
   "metadata": {},
   "source": [
    "Готово. При проверке уникальных значений названий стран обнаруживаем также значение \"Could not be extracted\". Разберемся, откуда оно взялось."
   ]
  },
  {
   "cell_type": "code",
   "execution_count": 11,
   "metadata": {
    "collapsed": false,
    "jupyter": {
     "outputs_hidden": false
    },
    "pycharm": {
     "name": "#%%\n"
    }
   },
   "outputs": [
    {
     "data": {
      "text/plain": [
       "110      Could not be extracted\n",
       "179      Could not be extracted\n",
       "231      Could not be extracted\n",
       "247      Could not be extracted\n",
       "290      Could not be extracted\n",
       "                  ...          \n",
       "21501    Could not be extracted\n",
       "21510    Could not be extracted\n",
       "21628    Could not be extracted\n",
       "21629    Could not be extracted\n",
       "21671    Could not be extracted\n",
       "Name: address, Length: 460, dtype: object"
      ]
     },
     "metadata": {},
     "output_type": "display_data"
    }
   ],
   "source": [
    "display(data[data['country'] =='Could not be extracted']['address'])"
   ]
  },
  {
   "cell_type": "markdown",
   "metadata": {},
   "source": [
    "Похоже, что дело в неполноте изначальных данных. Пожалуй, заменим все эти значения на NaN."
   ]
  },
  {
   "cell_type": "code",
   "execution_count": 12,
   "metadata": {
    "collapsed": false,
    "jupyter": {
     "outputs_hidden": false
    },
    "pycharm": {
     "name": "#%%\n"
    }
   },
   "outputs": [
    {
     "name": "stdout",
     "output_type": "stream",
     "text": [
      "id                0\n",
      "authour_name      0\n",
      "title             0\n",
      "address         460\n",
      "issn            486\n",
      "journal           0\n",
      "year              0\n",
      "org_name        460\n",
      "country         460\n",
      "dtype: int64\n"
     ]
    }
   ],
   "source": [
    "data = data.replace('Could not be extracted', np.nan)\n",
    "print(data.isna().sum())"
   ]
  },
  {
   "cell_type": "markdown",
   "metadata": {},
   "source": [
    "Обнаружив в процессе дальнейшего анализа неявные дубликаты в названиях организации среди топ-20 (а именно - разные названия НИУ ВШЭ), я решил вернуться на этот этап и устранить их, унифицировав названия Московской ВШЭ и Петербургской ВШЭ. Остальные варианты встречаются крайне редко в таком объеме данных, поэтому их трогать не будем.\n",
    "\n",
    "Та же самая история с попавшим в один из рейтингов РУДН и МГУ им. Ломоносова."
   ]
  },
  {
   "cell_type": "code",
   "execution_count": 13,
   "metadata": {
    "collapsed": false,
    "jupyter": {
     "outputs_hidden": false
    },
    "pycharm": {
     "name": "#%%\n"
    }
   },
   "outputs": [
    {
     "data": {
      "text/plain": [
       "Natl Res Univ                           757\n",
       "Natl Res Univ Higher Sch Econ           589\n",
       "Belgorod State Natl Res Univ             46\n",
       "Natl Res Univ Higher Sch Econ HSE        28\n",
       "Belgorod Natl Res Univ                   24\n",
       "Perm State Natl Res Univ                 18\n",
       "Samara Natl Res Univ                      8\n",
       "Natl Res Univ Moscow Power Engn Inst      4\n",
       "Natl Res Univ High Sch Econ               1\n",
       "Natl Res Univ Higher Sch Econ Moscow      1\n",
       "Moscow Aviat Inst Natl Res Univ           1\n",
       "Name: org_name, dtype: int64"
      ]
     },
     "metadata": {},
     "output_type": "display_data"
    }
   ],
   "source": [
    "data_check = data.dropna()\n",
    "display(data_check.loc[data_check['org_name'].str.contains('Natl Res Univ', na=False)]['org_name'].value_counts())\n",
    "\n",
    "data.loc[(data['org_name'].str.contains('Natl Res Univ', na=False)) & (data['address'].str.contains('Moscow', na=False)),'org_name'] = 'HSE Moscow'\n",
    "data.loc[data['org_name'].str.contains('Natl Res Univ', na=False) & data['address'].str.contains('Petersburg', na=False),'org_name'] = 'HSE SPb'\n",
    "\n",
    "data.loc[data['org_name'] == 'Peoples Friendship Univ Russia'] = 'RUDN Univ'\n",
    "data.loc[(data['org_name'].str.contains('Lomonosov', na=False)), 'org_name'] = 'Lomonosov Moscow State Univ'"
   ]
  },
  {
   "cell_type": "markdown",
   "metadata": {
    "pycharm": {
     "name": "#%% md\n"
    }
   },
   "source": [
    "## Анализ данных по поставленным задачам"
   ]
  },
  {
   "cell_type": "markdown",
   "metadata": {},
   "source": [
    "Посчитаем количество публикаций, содержащих в своем названии \"Russia\" или \"Russian\".\n",
    "\n",
    "Здесь я использую метод lower() для того, чтобы, переведя все названия в нижний регистр, по одному ключу \"russia\" найти все вхождения. Также отмечу, что \"russian\" тоже попадет в выборку, так как комбинация символов \"russia\" в нем присутствует.\n",
    "\n",
    "Также я использую метод unique(), поскольку в таблице одна и та же статья занимает несколько строк - по количеству ее авторов."
   ]
  },
  {
   "cell_type": "code",
   "execution_count": 14,
   "metadata": {
    "collapsed": false,
    "jupyter": {
     "outputs_hidden": false
    },
    "pycharm": {
     "name": "#%%\n"
    }
   },
   "outputs": [
    {
     "name": "stdout",
     "output_type": "stream",
     "text": [
      "Количество публикаций, в названии которых упоминается \"Russia\" или \"Russian\": 4825\n",
      "Доля таких публикаций  0.4325414612281488\n"
     ]
    }
   ],
   "source": [
    "papers_abt_russia = len(data.loc[data['title'].str.lower().str.contains('russia'),'title'].unique())\n",
    "print('Количество публикаций, в названии которых упоминается \"Russia\" или \"Russian\":', papers_abt_russia)\n",
    "print('Доля таких публикаций ', papers_abt_russia/len(data['title'].unique()))"
   ]
  },
  {
   "cell_type": "markdown",
   "metadata": {},
   "source": [
    "### Топ-20 организаций: по авторам"
   ]
  },
  {
   "cell_type": "markdown",
   "metadata": {},
   "source": [
    "Перейдем к составлению рейтингов Топ-20.\n",
    "\n",
    "Для Топ-20 организаций по количеству авторов я использую лямбда-функцию в сводной таблице, чтобы удостовериться, что каждый уникальный автор будет посчитан только единожды."
   ]
  },
  {
   "cell_type": "code",
   "execution_count": 15,
   "metadata": {
    "collapsed": false,
    "jupyter": {
     "outputs_hidden": false
    },
    "pycharm": {
     "name": "#%%\n"
    }
   },
   "outputs": [],
   "source": [
    "top_facilities_by_authors = data.pivot_table(index='org_name', values='authour_name', aggfunc=lambda x: len(x.unique())).sort_values(by='authour_name', ascending=False).head(20)"
   ]
  },
  {
   "cell_type": "code",
   "execution_count": 16,
   "metadata": {
    "collapsed": false,
    "jupyter": {
     "outputs_hidden": false
    },
    "pycharm": {
     "name": "#%%\n"
    }
   },
   "outputs": [
    {
     "data": {
      "text/html": [
       "<div>\n",
       "<style scoped>\n",
       "    .dataframe tbody tr th:only-of-type {\n",
       "        vertical-align: middle;\n",
       "    }\n",
       "\n",
       "    .dataframe tbody tr th {\n",
       "        vertical-align: top;\n",
       "    }\n",
       "\n",
       "    .dataframe thead th {\n",
       "        text-align: right;\n",
       "    }\n",
       "</style>\n",
       "<table border=\"1\" class=\"dataframe\">\n",
       "  <thead>\n",
       "    <tr style=\"text-align: right;\">\n",
       "      <th></th>\n",
       "      <th>authour_name</th>\n",
       "    </tr>\n",
       "    <tr>\n",
       "      <th>org_name</th>\n",
       "      <th></th>\n",
       "    </tr>\n",
       "  </thead>\n",
       "  <tbody>\n",
       "    <tr>\n",
       "      <th>Kazan Fed Univ</th>\n",
       "      <td>2083</td>\n",
       "    </tr>\n",
       "    <tr>\n",
       "      <th>HSE Moscow</th>\n",
       "      <td>814</td>\n",
       "    </tr>\n",
       "    <tr>\n",
       "      <th>St Petersburg State Univ</th>\n",
       "      <td>484</td>\n",
       "    </tr>\n",
       "    <tr>\n",
       "      <th>Lomonosov Moscow State Univ</th>\n",
       "      <td>329</td>\n",
       "    </tr>\n",
       "    <tr>\n",
       "      <th>Belgorod State Univ</th>\n",
       "      <td>246</td>\n",
       "    </tr>\n",
       "    <tr>\n",
       "      <th>Kazan Volga Reg Fed Univ</th>\n",
       "      <td>198</td>\n",
       "    </tr>\n",
       "    <tr>\n",
       "      <th>Stavropol State Agr Univ</th>\n",
       "      <td>180</td>\n",
       "    </tr>\n",
       "    <tr>\n",
       "      <th>Russian State Social Univ</th>\n",
       "      <td>164</td>\n",
       "    </tr>\n",
       "    <tr>\n",
       "      <th>Plekhanov Russian Univ Econ</th>\n",
       "      <td>159</td>\n",
       "    </tr>\n",
       "    <tr>\n",
       "      <th>Financial Univ Govt Russian Federat</th>\n",
       "      <td>144</td>\n",
       "    </tr>\n",
       "    <tr>\n",
       "      <th>Ural Fed Univ</th>\n",
       "      <td>140</td>\n",
       "    </tr>\n",
       "    <tr>\n",
       "      <th>North Eastern Fed Univ</th>\n",
       "      <td>122</td>\n",
       "    </tr>\n",
       "    <tr>\n",
       "      <th>RUDN Univ</th>\n",
       "      <td>122</td>\n",
       "    </tr>\n",
       "    <tr>\n",
       "      <th>Southern Fed Univ</th>\n",
       "      <td>105</td>\n",
       "    </tr>\n",
       "    <tr>\n",
       "      <th>Univ Tartu</th>\n",
       "      <td>103</td>\n",
       "    </tr>\n",
       "    <tr>\n",
       "      <th>Stavropol State Agrarian Univ</th>\n",
       "      <td>99</td>\n",
       "    </tr>\n",
       "    <tr>\n",
       "      <th>HSE SPb</th>\n",
       "      <td>99</td>\n",
       "    </tr>\n",
       "    <tr>\n",
       "      <th>Univ Helsinki</th>\n",
       "      <td>86</td>\n",
       "    </tr>\n",
       "    <tr>\n",
       "      <th>Tyumen State Univ</th>\n",
       "      <td>86</td>\n",
       "    </tr>\n",
       "    <tr>\n",
       "      <th>Tomsk State Univ</th>\n",
       "      <td>84</td>\n",
       "    </tr>\n",
       "  </tbody>\n",
       "</table>\n",
       "</div>"
      ],
      "text/plain": [
       "                                     authour_name\n",
       "org_name                                         \n",
       "Kazan Fed Univ                               2083\n",
       "HSE Moscow                                    814\n",
       "St Petersburg State Univ                      484\n",
       "Lomonosov Moscow State Univ                   329\n",
       "Belgorod State Univ                           246\n",
       "Kazan Volga Reg Fed Univ                      198\n",
       "Stavropol State Agr Univ                      180\n",
       "Russian State Social Univ                     164\n",
       "Plekhanov Russian Univ Econ                   159\n",
       "Financial Univ Govt Russian Federat           144\n",
       "Ural Fed Univ                                 140\n",
       "North Eastern Fed Univ                        122\n",
       "RUDN Univ                                     122\n",
       "Southern Fed Univ                             105\n",
       "Univ Tartu                                    103\n",
       "Stavropol State Agrarian Univ                  99\n",
       "HSE SPb                                        99\n",
       "Univ Helsinki                                  86\n",
       "Tyumen State Univ                              86\n",
       "Tomsk State Univ                               84"
      ]
     },
     "metadata": {},
     "output_type": "display_data"
    }
   ],
   "source": [
    "display(top_facilities_by_authors)"
   ]
  },
  {
   "cell_type": "markdown",
   "metadata": {},
   "source": [
    "Построим простенький график, чтобы более наглядно проиллюстрировать разрыв между лидерами:"
   ]
  },
  {
   "cell_type": "code",
   "execution_count": 17,
   "metadata": {
    "collapsed": false,
    "jupyter": {
     "outputs_hidden": false
    },
    "pycharm": {
     "name": "#%%\n"
    }
   },
   "outputs": [
    {
     "data": {
      "image/png": "[encoded data removed]",
      "text/plain": [
       "<Figure size 1000x1000 with 1 Axes>"
      ]
     },
     "metadata": {},
     "output_type": "display_data"
    }
   ],
   "source": [
    "top_facilities_by_authors.sort_values(by='authour_name', ascending=True).plot(kind='barh',figsize=(10,10))\n",
    "plt.show()"
   ]
  },
  {
   "cell_type": "markdown",
   "metadata": {},
   "source": [
    "P.S.: Казанский Федеральный Университет лидирует с огромным отрывом (более чем в 2 раза больше авторов, чем у следующего за ним учреждения).\n",
    "Следом за ним - НИУ ВШЭ в Москве, далее СПбГУ, Белгородский государственный университет и МГУ, причем с каждой позицией от 1 до 4 количество авторов уменьшается примерно вдвое."
   ]
  },
  {
   "cell_type": "markdown",
   "metadata": {},
   "source": [
    "### Топ-20 организаций: по количеству публикаций"
   ]
  },
  {
   "cell_type": "code",
   "execution_count": 18,
   "metadata": {
    "collapsed": false,
    "jupyter": {
     "outputs_hidden": false
    },
    "pycharm": {
     "name": "#%%\n"
    }
   },
   "outputs": [],
   "source": [
    "top_facilities_by_papers = data.pivot_table(index='org_name', values='title', aggfunc=lambda x: len(x.unique())).sort_values(by='title', ascending=False).head(20)"
   ]
  },
  {
   "cell_type": "code",
   "execution_count": 19,
   "metadata": {
    "collapsed": false,
    "jupyter": {
     "outputs_hidden": false
    },
    "pycharm": {
     "name": "#%%\n"
    }
   },
   "outputs": [
    {
     "data": {
      "text/html": [
       "<div>\n",
       "<style scoped>\n",
       "    .dataframe tbody tr th:only-of-type {\n",
       "        vertical-align: middle;\n",
       "    }\n",
       "\n",
       "    .dataframe tbody tr th {\n",
       "        vertical-align: top;\n",
       "    }\n",
       "\n",
       "    .dataframe thead th {\n",
       "        text-align: right;\n",
       "    }\n",
       "</style>\n",
       "<table border=\"1\" class=\"dataframe\">\n",
       "  <thead>\n",
       "    <tr style=\"text-align: right;\">\n",
       "      <th></th>\n",
       "      <th>title</th>\n",
       "    </tr>\n",
       "    <tr>\n",
       "      <th>org_name</th>\n",
       "      <th></th>\n",
       "    </tr>\n",
       "  </thead>\n",
       "  <tbody>\n",
       "    <tr>\n",
       "      <th>Kazan Fed Univ</th>\n",
       "      <td>1234</td>\n",
       "    </tr>\n",
       "    <tr>\n",
       "      <th>HSE Moscow</th>\n",
       "      <td>748</td>\n",
       "    </tr>\n",
       "    <tr>\n",
       "      <th>St Petersburg State Univ</th>\n",
       "      <td>376</td>\n",
       "    </tr>\n",
       "    <tr>\n",
       "      <th>Lomonosov Moscow State Univ</th>\n",
       "      <td>256</td>\n",
       "    </tr>\n",
       "    <tr>\n",
       "      <th>Plekhanov Russian Univ Econ</th>\n",
       "      <td>124</td>\n",
       "    </tr>\n",
       "    <tr>\n",
       "      <th>Ural Fed Univ</th>\n",
       "      <td>111</td>\n",
       "    </tr>\n",
       "    <tr>\n",
       "      <th>Kazan Volga Reg Fed Univ</th>\n",
       "      <td>104</td>\n",
       "    </tr>\n",
       "    <tr>\n",
       "      <th>Russian State Social Univ</th>\n",
       "      <td>103</td>\n",
       "    </tr>\n",
       "    <tr>\n",
       "      <th>HSE SPb</th>\n",
       "      <td>102</td>\n",
       "    </tr>\n",
       "    <tr>\n",
       "      <th>Univ Tartu</th>\n",
       "      <td>102</td>\n",
       "    </tr>\n",
       "    <tr>\n",
       "      <th>Altai State Univ</th>\n",
       "      <td>96</td>\n",
       "    </tr>\n",
       "    <tr>\n",
       "      <th>Financial Univ Govt Russian Federat</th>\n",
       "      <td>92</td>\n",
       "    </tr>\n",
       "    <tr>\n",
       "      <th>Univ Helsinki</th>\n",
       "      <td>92</td>\n",
       "    </tr>\n",
       "    <tr>\n",
       "      <th>Univ Oxford</th>\n",
       "      <td>90</td>\n",
       "    </tr>\n",
       "    <tr>\n",
       "      <th>North Eastern Fed Univ</th>\n",
       "      <td>80</td>\n",
       "    </tr>\n",
       "    <tr>\n",
       "      <th>Belgorod State Univ</th>\n",
       "      <td>76</td>\n",
       "    </tr>\n",
       "    <tr>\n",
       "      <th>Univ Cambridge</th>\n",
       "      <td>76</td>\n",
       "    </tr>\n",
       "    <tr>\n",
       "      <th>Southern Fed Univ</th>\n",
       "      <td>68</td>\n",
       "    </tr>\n",
       "    <tr>\n",
       "      <th>Kings Coll London</th>\n",
       "      <td>68</td>\n",
       "    </tr>\n",
       "    <tr>\n",
       "      <th>RUDN Univ</th>\n",
       "      <td>67</td>\n",
       "    </tr>\n",
       "  </tbody>\n",
       "</table>\n",
       "</div>"
      ],
      "text/plain": [
       "                                     title\n",
       "org_name                                  \n",
       "Kazan Fed Univ                        1234\n",
       "HSE Moscow                             748\n",
       "St Petersburg State Univ               376\n",
       "Lomonosov Moscow State Univ            256\n",
       "Plekhanov Russian Univ Econ            124\n",
       "Ural Fed Univ                          111\n",
       "Kazan Volga Reg Fed Univ               104\n",
       "Russian State Social Univ              103\n",
       "HSE SPb                                102\n",
       "Univ Tartu                             102\n",
       "Altai State Univ                        96\n",
       "Financial Univ Govt Russian Federat     92\n",
       "Univ Helsinki                           92\n",
       "Univ Oxford                             90\n",
       "North Eastern Fed Univ                  80\n",
       "Belgorod State Univ                     76\n",
       "Univ Cambridge                          76\n",
       "Southern Fed Univ                       68\n",
       "Kings Coll London                       68\n",
       "RUDN Univ                               67"
      ]
     },
     "metadata": {},
     "output_type": "display_data"
    }
   ],
   "source": [
    "display(top_facilities_by_papers)"
   ]
  },
  {
   "cell_type": "code",
   "execution_count": 20,
   "metadata": {
    "collapsed": false,
    "jupyter": {
     "outputs_hidden": false
    },
    "pycharm": {
     "name": "#%%\n"
    }
   },
   "outputs": [
    {
     "data": {
      "image/png": "[encoded data removed]",
      "text/plain": [
       "<Figure size 1000x1000 with 1 Axes>"
      ]
     },
     "metadata": {},
     "output_type": "display_data"
    }
   ],
   "source": [
    "top_facilities_by_papers.sort_values(by='title', ascending=True).plot(kind='barh',figsize=(10,10))\n",
    "plt.show()"
   ]
  },
  {
   "cell_type": "markdown",
   "metadata": {},
   "source": [
    "Здесь мы наблюдаем аналогичную картину, однако разрыв уже чуть меньше. Белгородский государственный институт исчез из первой пятерки и сместился в конец топа.\n"
   ]
  },
  {
   "cell_type": "markdown",
   "metadata": {},
   "source": []
  },
  {
   "cell_type": "code",
   "execution_count": 21,
   "metadata": {
    "collapsed": false,
    "jupyter": {
     "outputs_hidden": false
    },
    "pycharm": {
     "name": "#%%\n"
    }
   },
   "outputs": [],
   "source": [
    "top_authors_by_papers = data.pivot_table(index='authour_name', values='title', aggfunc=lambda x: len(x.unique())).sort_values(by='title', ascending=False).head(20)"
   ]
  },
  {
   "cell_type": "code",
   "execution_count": 22,
   "metadata": {
    "collapsed": false,
    "jupyter": {
     "outputs_hidden": false
    },
    "pycharm": {
     "name": "#%%\n"
    }
   },
   "outputs": [
    {
     "data": {
      "text/html": [
       "<div>\n",
       "<style scoped>\n",
       "    .dataframe tbody tr th:only-of-type {\n",
       "        vertical-align: middle;\n",
       "    }\n",
       "\n",
       "    .dataframe tbody tr th {\n",
       "        vertical-align: top;\n",
       "    }\n",
       "\n",
       "    .dataframe thead th {\n",
       "        text-align: right;\n",
       "    }\n",
       "</style>\n",
       "<table border=\"1\" class=\"dataframe\">\n",
       "  <thead>\n",
       "    <tr style=\"text-align: right;\">\n",
       "      <th></th>\n",
       "      <th>title</th>\n",
       "    </tr>\n",
       "    <tr>\n",
       "      <th>authour_name</th>\n",
       "      <th></th>\n",
       "    </tr>\n",
       "  </thead>\n",
       "  <tbody>\n",
       "    <tr>\n",
       "      <th>Zamaletdinov, Radif R.</th>\n",
       "      <td>24</td>\n",
       "    </tr>\n",
       "    <tr>\n",
       "      <th>Kovalenko, Kseniya</th>\n",
       "      <td>23</td>\n",
       "    </tr>\n",
       "    <tr>\n",
       "      <th>Kovalenko, Kseniya E.</th>\n",
       "      <td>21</td>\n",
       "    </tr>\n",
       "    <tr>\n",
       "      <th>Zhatkin, Dmitry N.</th>\n",
       "      <td>21</td>\n",
       "    </tr>\n",
       "    <tr>\n",
       "      <th>Gubareva, Anna</th>\n",
       "      <td>16</td>\n",
       "    </tr>\n",
       "    <tr>\n",
       "      <th>Zaitseva, Natalia A.</th>\n",
       "      <td>16</td>\n",
       "    </tr>\n",
       "    <tr>\n",
       "      <th>Souleimanov, Emil Aslan</th>\n",
       "      <td>16</td>\n",
       "    </tr>\n",
       "    <tr>\n",
       "      <th>Fedorov, Alexander</th>\n",
       "      <td>14</td>\n",
       "    </tr>\n",
       "    <tr>\n",
       "      <th>Larionova, Anna A.</th>\n",
       "      <td>14</td>\n",
       "    </tr>\n",
       "    <tr>\n",
       "      <th>Safiullin, Marat R.</th>\n",
       "      <td>14</td>\n",
       "    </tr>\n",
       "    <tr>\n",
       "      <th>Laruelle, Marlene</th>\n",
       "      <td>13</td>\n",
       "    </tr>\n",
       "    <tr>\n",
       "      <th>Zamaletdinova, Gulnara F.</th>\n",
       "      <td>12</td>\n",
       "    </tr>\n",
       "    <tr>\n",
       "      <th>Bogoviz, Aleksei V.</th>\n",
       "      <td>12</td>\n",
       "    </tr>\n",
       "    <tr>\n",
       "      <th>Trukhachev, Vladimir Ivanovich</th>\n",
       "      <td>12</td>\n",
       "    </tr>\n",
       "    <tr>\n",
       "      <th>Rubtcova, Mariia</th>\n",
       "      <td>12</td>\n",
       "    </tr>\n",
       "    <tr>\n",
       "      <th>Makarychev, Andrey</th>\n",
       "      <td>11</td>\n",
       "    </tr>\n",
       "    <tr>\n",
       "      <th>Rokotyanskaya, Violetta V.</th>\n",
       "      <td>11</td>\n",
       "    </tr>\n",
       "    <tr>\n",
       "      <th>Yashina, Tatiana A.</th>\n",
       "      <td>10</td>\n",
       "    </tr>\n",
       "    <tr>\n",
       "      <th>Golosov, Grigorii V.</th>\n",
       "      <td>10</td>\n",
       "    </tr>\n",
       "    <tr>\n",
       "      <th>Jasinskaja-Lahti, Inga</th>\n",
       "      <td>10</td>\n",
       "    </tr>\n",
       "  </tbody>\n",
       "</table>\n",
       "</div>"
      ],
      "text/plain": [
       "                                title\n",
       "authour_name                         \n",
       "Zamaletdinov, Radif R.             24\n",
       "Kovalenko, Kseniya                 23\n",
       "Kovalenko, Kseniya E.              21\n",
       "Zhatkin, Dmitry N.                 21\n",
       "Gubareva, Anna                     16\n",
       "Zaitseva, Natalia A.               16\n",
       "Souleimanov, Emil Aslan            16\n",
       "Fedorov, Alexander                 14\n",
       "Larionova, Anna A.                 14\n",
       "Safiullin, Marat R.                14\n",
       "Laruelle, Marlene                  13\n",
       "Zamaletdinova, Gulnara F.          12\n",
       "Bogoviz, Aleksei V.                12\n",
       "Trukhachev, Vladimir Ivanovich     12\n",
       "Rubtcova, Mariia                   12\n",
       "Makarychev, Andrey                 11\n",
       "Rokotyanskaya, Violetta V.         11\n",
       "Yashina, Tatiana A.                10\n",
       "Golosov, Grigorii V.               10\n",
       "Jasinskaja-Lahti, Inga             10"
      ]
     },
     "metadata": {},
     "output_type": "display_data"
    }
   ],
   "source": [
    "display(top_authors_by_papers)"
   ]
  },
  {
   "cell_type": "markdown",
   "metadata": {},
   "source": [
    "Тут та же проблема, что и с названиями организаций: кажется, возник дубликат (второй и третий автор в списке - Коваленко Ксения). Все дубликаты имен устранить невозможно, поэтому хорошо бы иметь в базе ORCID ID.\n",
    "Здесь же можно выполнить замену значений, но это необязательно для ориентировочного анализа. Все же выведем более корректный список:"
   ]
  },
  {
   "cell_type": "code",
   "execution_count": 23,
   "metadata": {
    "collapsed": false,
    "jupyter": {
     "outputs_hidden": false
    },
    "pycharm": {
     "name": "#%%\n"
    }
   },
   "outputs": [
    {
     "data": {
      "text/html": [
       "<div>\n",
       "<style scoped>\n",
       "    .dataframe tbody tr th:only-of-type {\n",
       "        vertical-align: middle;\n",
       "    }\n",
       "\n",
       "    .dataframe tbody tr th {\n",
       "        vertical-align: top;\n",
       "    }\n",
       "\n",
       "    .dataframe thead th {\n",
       "        text-align: right;\n",
       "    }\n",
       "</style>\n",
       "<table border=\"1\" class=\"dataframe\">\n",
       "  <thead>\n",
       "    <tr style=\"text-align: right;\">\n",
       "      <th></th>\n",
       "      <th>title</th>\n",
       "    </tr>\n",
       "    <tr>\n",
       "      <th>authour_name</th>\n",
       "      <th></th>\n",
       "    </tr>\n",
       "  </thead>\n",
       "  <tbody>\n",
       "    <tr>\n",
       "      <th>Kovalenko, Kseniya E.</th>\n",
       "      <td>44</td>\n",
       "    </tr>\n",
       "    <tr>\n",
       "      <th>Zamaletdinov, Radif R.</th>\n",
       "      <td>24</td>\n",
       "    </tr>\n",
       "    <tr>\n",
       "      <th>Zhatkin, Dmitry N.</th>\n",
       "      <td>21</td>\n",
       "    </tr>\n",
       "    <tr>\n",
       "      <th>Souleimanov, Emil Aslan</th>\n",
       "      <td>16</td>\n",
       "    </tr>\n",
       "    <tr>\n",
       "      <th>Gubareva, Anna</th>\n",
       "      <td>16</td>\n",
       "    </tr>\n",
       "    <tr>\n",
       "      <th>Zaitseva, Natalia A.</th>\n",
       "      <td>16</td>\n",
       "    </tr>\n",
       "    <tr>\n",
       "      <th>Safiullin, Marat R.</th>\n",
       "      <td>14</td>\n",
       "    </tr>\n",
       "    <tr>\n",
       "      <th>Larionova, Anna A.</th>\n",
       "      <td>14</td>\n",
       "    </tr>\n",
       "    <tr>\n",
       "      <th>Fedorov, Alexander</th>\n",
       "      <td>14</td>\n",
       "    </tr>\n",
       "    <tr>\n",
       "      <th>Laruelle, Marlene</th>\n",
       "      <td>13</td>\n",
       "    </tr>\n",
       "    <tr>\n",
       "      <th>Bogoviz, Aleksei V.</th>\n",
       "      <td>12</td>\n",
       "    </tr>\n",
       "    <tr>\n",
       "      <th>Zamaletdinova, Gulnara F.</th>\n",
       "      <td>12</td>\n",
       "    </tr>\n",
       "    <tr>\n",
       "      <th>Trukhachev, Vladimir Ivanovich</th>\n",
       "      <td>12</td>\n",
       "    </tr>\n",
       "    <tr>\n",
       "      <th>Rubtcova, Mariia</th>\n",
       "      <td>12</td>\n",
       "    </tr>\n",
       "    <tr>\n",
       "      <th>Rokotyanskaya, Violetta V.</th>\n",
       "      <td>11</td>\n",
       "    </tr>\n",
       "    <tr>\n",
       "      <th>Makarychev, Andrey</th>\n",
       "      <td>11</td>\n",
       "    </tr>\n",
       "    <tr>\n",
       "      <th>Prokopieva, Svetlana Mitrofanovna</th>\n",
       "      <td>10</td>\n",
       "    </tr>\n",
       "    <tr>\n",
       "      <th>Nesset, Tore</th>\n",
       "      <td>10</td>\n",
       "    </tr>\n",
       "    <tr>\n",
       "      <th>Jasinskaja-Lahti, Inga</th>\n",
       "      <td>10</td>\n",
       "    </tr>\n",
       "    <tr>\n",
       "      <th>Zhatkin, Dmitry Nikolayevich</th>\n",
       "      <td>10</td>\n",
       "    </tr>\n",
       "  </tbody>\n",
       "</table>\n",
       "</div>"
      ],
      "text/plain": [
       "                                   title\n",
       "authour_name                            \n",
       "Kovalenko, Kseniya E.                 44\n",
       "Zamaletdinov, Radif R.                24\n",
       "Zhatkin, Dmitry N.                    21\n",
       "Souleimanov, Emil Aslan               16\n",
       "Gubareva, Anna                        16\n",
       "Zaitseva, Natalia A.                  16\n",
       "Safiullin, Marat R.                   14\n",
       "Larionova, Anna A.                    14\n",
       "Fedorov, Alexander                    14\n",
       "Laruelle, Marlene                     13\n",
       "Bogoviz, Aleksei V.                   12\n",
       "Zamaletdinova, Gulnara F.             12\n",
       "Trukhachev, Vladimir Ivanovich        12\n",
       "Rubtcova, Mariia                      12\n",
       "Rokotyanskaya, Violetta V.            11\n",
       "Makarychev, Andrey                    11\n",
       "Prokopieva, Svetlana Mitrofanovna     10\n",
       "Nesset, Tore                          10\n",
       "Jasinskaja-Lahti, Inga                10\n",
       "Zhatkin, Dmitry Nikolayevich          10"
      ]
     },
     "metadata": {},
     "output_type": "display_data"
    }
   ],
   "source": [
    "data.loc[data['authour_name'] == 'Kovalenko, Kseniya', 'authour_name'] = 'Kovalenko, Kseniya E.'\n",
    "top_authors_by_papers = data.pivot_table(index='authour_name', values='title', aggfunc=lambda x: len(x.unique())).sort_values(by='title', ascending=False).head(20)\n",
    "\n",
    "display(top_authors_by_papers)"
   ]
  },
  {
   "cell_type": "markdown",
   "metadata": {},
   "source": [
    "И Ксения Коваленко лидирует."
   ]
  },
  {
   "cell_type": "markdown",
   "metadata": {},
   "source": [
    "### Топ-20 журналов по публикациям"
   ]
  },
  {
   "cell_type": "code",
   "execution_count": 24,
   "metadata": {
    "collapsed": false,
    "jupyter": {
     "outputs_hidden": false
    },
    "pycharm": {
     "name": "#%%\n"
    }
   },
   "outputs": [],
   "source": [
    "top_journals_by_papers = data.pivot_table(index='journal', values='title', aggfunc=lambda x: len(x.unique())).sort_values(by='title', ascending=False).head(20)"
   ]
  },
  {
   "cell_type": "code",
   "execution_count": 25,
   "metadata": {
    "collapsed": false,
    "jupyter": {
     "outputs_hidden": false
    },
    "pycharm": {
     "name": "#%%\n"
    }
   },
   "outputs": [
    {
     "data": {
      "text/html": [
       "<div>\n",
       "<style scoped>\n",
       "    .dataframe tbody tr th:only-of-type {\n",
       "        vertical-align: middle;\n",
       "    }\n",
       "\n",
       "    .dataframe tbody tr th {\n",
       "        vertical-align: top;\n",
       "    }\n",
       "\n",
       "    .dataframe thead th {\n",
       "        text-align: right;\n",
       "    }\n",
       "</style>\n",
       "<table border=\"1\" class=\"dataframe\">\n",
       "  <thead>\n",
       "    <tr style=\"text-align: right;\">\n",
       "      <th></th>\n",
       "      <th>title</th>\n",
       "    </tr>\n",
       "    <tr>\n",
       "      <th>journal</th>\n",
       "      <th></th>\n",
       "    </tr>\n",
       "  </thead>\n",
       "  <tbody>\n",
       "    <tr>\n",
       "      <th>MODERN JOURNAL OF LANGUAGE TEACHING METHODS</th>\n",
       "      <td>374</td>\n",
       "    </tr>\n",
       "    <tr>\n",
       "      <th>RESEARCH JOURNAL OF PHARMACEUTICAL BIOLOGICAL AND CHEMICAL SCIENCES</th>\n",
       "      <td>284</td>\n",
       "    </tr>\n",
       "    <tr>\n",
       "      <th>AMAZONIA INVESTIGA</th>\n",
       "      <td>248</td>\n",
       "    </tr>\n",
       "    <tr>\n",
       "      <th>TARIH KULTUR VE SANAT ARASTIRMALARI DERGISI-JOURNAL OF HISTORY CULTURE\\n\\nAND ART RESEARCH</th>\n",
       "      <td>233</td>\n",
       "    </tr>\n",
       "    <tr>\n",
       "      <th>AD ALTA-JOURNAL OF INTERDISCIPLINARY RESEARCH</th>\n",
       "      <td>187</td>\n",
       "    </tr>\n",
       "    <tr>\n",
       "      <th>TURKISH ONLINE JOURNAL OF DESIGN ART AND COMMUNICATION</th>\n",
       "      <td>176</td>\n",
       "    </tr>\n",
       "    <tr>\n",
       "      <th>EUROPE-ASIA STUDIES</th>\n",
       "      <td>157</td>\n",
       "    </tr>\n",
       "    <tr>\n",
       "      <th>DILEMAS CONTEMPORANEOS-EDUCACION POLITICA Y VALORES</th>\n",
       "      <td>144</td>\n",
       "    </tr>\n",
       "    <tr>\n",
       "      <th>PSYCHOLOGY IN RUSSIA-STATE OF THE ART</th>\n",
       "      <td>110</td>\n",
       "    </tr>\n",
       "    <tr>\n",
       "      <th>REVISTA SAN GREGORIO</th>\n",
       "      <td>101</td>\n",
       "    </tr>\n",
       "    <tr>\n",
       "      <th>RUSSIAN REVIEW</th>\n",
       "      <td>95</td>\n",
       "    </tr>\n",
       "    <tr>\n",
       "      <th>SLAVIC REVIEW</th>\n",
       "      <td>94</td>\n",
       "    </tr>\n",
       "    <tr>\n",
       "      <th>REVISTA GENERO &amp; DIREITO</th>\n",
       "      <td>90</td>\n",
       "    </tr>\n",
       "    <tr>\n",
       "      <th>REVISTA PUBLICANDO</th>\n",
       "      <td>89</td>\n",
       "    </tr>\n",
       "    <tr>\n",
       "      <th>QUID-INVESTIGACION CIENCIA Y TECNOLOGIA</th>\n",
       "      <td>88</td>\n",
       "    </tr>\n",
       "    <tr>\n",
       "      <th>JOURNAL OF RESEARCH IN APPLIED LINGUISTICS</th>\n",
       "      <td>87</td>\n",
       "    </tr>\n",
       "    <tr>\n",
       "      <th>EUROPEAN JOURNAL OF CONTEMPORARY EDUCATION</th>\n",
       "      <td>86</td>\n",
       "    </tr>\n",
       "    <tr>\n",
       "      <th>SLAVIC AND EAST EUROPEAN JOURNAL</th>\n",
       "      <td>79</td>\n",
       "    </tr>\n",
       "    <tr>\n",
       "      <th>BALTIC REGION</th>\n",
       "      <td>75</td>\n",
       "    </tr>\n",
       "    <tr>\n",
       "      <th>KRITIKA-EXPLORATIONS IN RUSSIAN AND EURASIAN HISTORY</th>\n",
       "      <td>68</td>\n",
       "    </tr>\n",
       "  </tbody>\n",
       "</table>\n",
       "</div>"
      ],
      "text/plain": [
       "                                                    title\n",
       "journal                                                  \n",
       "MODERN JOURNAL OF LANGUAGE TEACHING METHODS           374\n",
       "RESEARCH JOURNAL OF PHARMACEUTICAL BIOLOGICAL A...    284\n",
       "AMAZONIA INVESTIGA                                    248\n",
       "TARIH KULTUR VE SANAT ARASTIRMALARI DERGISI-JOU...    233\n",
       "AD ALTA-JOURNAL OF INTERDISCIPLINARY RESEARCH         187\n",
       "TURKISH ONLINE JOURNAL OF DESIGN ART AND COMMUN...    176\n",
       "EUROPE-ASIA STUDIES                                   157\n",
       "DILEMAS CONTEMPORANEOS-EDUCACION POLITICA Y VAL...    144\n",
       "PSYCHOLOGY IN RUSSIA-STATE OF THE ART                 110\n",
       "REVISTA SAN GREGORIO                                  101\n",
       "RUSSIAN REVIEW                                         95\n",
       "SLAVIC REVIEW                                          94\n",
       "REVISTA GENERO & DIREITO                               90\n",
       "REVISTA PUBLICANDO                                     89\n",
       "QUID-INVESTIGACION CIENCIA Y TECNOLOGIA                88\n",
       "JOURNAL OF RESEARCH IN APPLIED LINGUISTICS             87\n",
       "EUROPEAN JOURNAL OF CONTEMPORARY EDUCATION             86\n",
       "SLAVIC AND EAST EUROPEAN JOURNAL                       79\n",
       "BALTIC REGION                                          75\n",
       "KRITIKA-EXPLORATIONS IN RUSSIAN AND EURASIAN HI...     68"
      ]
     },
     "metadata": {},
     "output_type": "display_data"
    }
   ],
   "source": [
    "display(top_journals_by_papers)"
   ]
  }
 ],
 "metadata": {
  "kernelspec": {
   "display_name": "Python 3",
   "language": "python",
   "name": "python3"
  },
  "language_info": {
   "codemirror_mode": {
    "name": "ipython",
    "version": 3
   },
   "file_extension": ".py",
   "mimetype": "text/x-python",
   "name": "python",
   "nbconvert_exporter": "python",
   "pygments_lexer": "ipython3",
   "version": "3.7.8"
  }
 },
 "nbformat": 4,
 "nbformat_minor": 4
}
